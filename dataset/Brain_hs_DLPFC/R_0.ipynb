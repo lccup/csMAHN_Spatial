{
 "cells": [
  {
   "cell_type": "code",
   "execution_count": 1,
   "id": "855fd3dc-64d9-4c16-9957-947ea7810fc6",
   "metadata": {
    "scrolled": true
   },
   "outputs": [
    {
     "name": "stderr",
     "output_type": "stream",
     "text": [
      "Loading required package: SpatialExperiment\n",
      "\n",
      "Loading required package: SingleCellExperiment\n",
      "\n",
      "Loading required package: SummarizedExperiment\n",
      "\n",
      "Loading required package: MatrixGenerics\n",
      "\n",
      "Loading required package: matrixStats\n",
      "\n",
      "\n",
      "Attaching package: ‘MatrixGenerics’\n",
      "\n",
      "\n",
      "The following objects are masked from ‘package:matrixStats’:\n",
      "\n",
      "    colAlls, colAnyNAs, colAnys, colAvgsPerRowSet, colCollapse,\n",
      "    colCounts, colCummaxs, colCummins, colCumprods, colCumsums,\n",
      "    colDiffs, colIQRDiffs, colIQRs, colLogSumExps, colMadDiffs,\n",
      "    colMads, colMaxs, colMeans2, colMedians, colMins, colOrderStats,\n",
      "    colProds, colQuantiles, colRanges, colRanks, colSdDiffs, colSds,\n",
      "    colSums2, colTabulates, colVarDiffs, colVars, colWeightedMads,\n",
      "    colWeightedMeans, colWeightedMedians, colWeightedSds,\n",
      "    colWeightedVars, rowAlls, rowAnyNAs, rowAnys, rowAvgsPerColSet,\n",
      "    rowCollapse, rowCounts, rowCummaxs, rowCummins, rowCumprods,\n",
      "    rowCumsums, rowDiffs, rowIQRDiffs, rowIQRs, rowLogSumExps,\n",
      "    rowMadDiffs, rowMads, rowMaxs, rowMeans2, rowMedians, rowMins,\n",
      "    rowOrderStats, rowProds, rowQuantiles, rowRanges, rowRanks,\n",
      "    rowSdDiffs, rowSds, rowSums2, rowTabulates, rowVarDiffs, rowVars,\n",
      "    rowWeightedMads, rowWeightedMeans, rowWeightedMedians,\n",
      "    rowWeightedSds, rowWeightedVars\n",
      "\n",
      "\n",
      "Loading required package: GenomicRanges\n",
      "\n",
      "Loading required package: stats4\n",
      "\n",
      "Loading required package: BiocGenerics\n",
      "\n",
      "\n",
      "Attaching package: ‘BiocGenerics’\n",
      "\n",
      "\n",
      "The following objects are masked from ‘package:stats’:\n",
      "\n",
      "    IQR, mad, sd, var, xtabs\n",
      "\n",
      "\n",
      "The following objects are masked from ‘package:base’:\n",
      "\n",
      "    anyDuplicated, aperm, append, as.data.frame, basename, cbind,\n",
      "    colnames, dirname, do.call, duplicated, eval, evalq, Filter, Find,\n",
      "    get, grep, grepl, intersect, is.unsorted, lapply, Map, mapply,\n",
      "    match, mget, order, paste, pmax, pmax.int, pmin, pmin.int,\n",
      "    Position, rank, rbind, Reduce, rownames, sapply, setdiff, sort,\n",
      "    table, tapply, union, unique, unsplit, which.max, which.min\n",
      "\n",
      "\n",
      "Loading required package: S4Vectors\n",
      "\n",
      "\n",
      "Attaching package: ‘S4Vectors’\n",
      "\n",
      "\n",
      "The following object is masked from ‘package:utils’:\n",
      "\n",
      "    findMatches\n",
      "\n",
      "\n",
      "The following objects are masked from ‘package:base’:\n",
      "\n",
      "    expand.grid, I, unname\n",
      "\n",
      "\n",
      "Loading required package: IRanges\n",
      "\n",
      "Loading required package: GenomeInfoDb\n",
      "\n",
      "Loading required package: Biobase\n",
      "\n",
      "Welcome to Bioconductor\n",
      "\n",
      "    Vignettes contain introductory material; view with\n",
      "    'browseVignettes()'. To cite Bioconductor, see\n",
      "    'citation(\"Biobase\")', and for packages 'citation(\"pkgname\")'.\n",
      "\n",
      "\n",
      "\n",
      "Attaching package: ‘Biobase’\n",
      "\n",
      "\n",
      "The following object is masked from ‘package:MatrixGenerics’:\n",
      "\n",
      "    rowMedians\n",
      "\n",
      "\n",
      "The following objects are masked from ‘package:matrixStats’:\n",
      "\n",
      "    anyMissing, rowMedians\n",
      "\n",
      "\n"
     ]
    }
   ],
   "source": [
    "library(\"spatialLIBD\")"
   ]
  },
  {
   "cell_type": "markdown",
   "id": "caa58d4a-d101-4333-8a8d-981e5fa268bc",
   "metadata": {},
   "source": [
    "# 无法获取\n",
    "\n",
    "没辙，得另寻他法"
   ]
  },
  {
   "cell_type": "code",
   "execution_count": 2,
   "id": "e9809238-e187-4e1e-a3a5-7bbdb8b08282",
   "metadata": {},
   "outputs": [
    {
     "name": "stderr",
     "output_type": "stream",
     "text": [
      "adding rname 'https://www.dropbox.com/s/f4wcvtdq428y73p/Human_DLPFC_Visium_processedData_sce_scran_spatialLIBD.Rdata?dl=1'\n",
      "\n",
      "Warning message:\n",
      "“download failed\n",
      "  web resource path: ‘https://www.dropbox.com/s/f4wcvtdq428y73p/Human_DLPFC_Visium_processedData_sce_scran_spatialLIBD.Rdata?dl=1’\n",
      "  local file path: ‘/public/workspace/licanchengup/.cache/R/BiocFileCache/1e6e21861ba86_Human_DLPFC_Visium_processedData_sce_scran_spatialLIBD.Rdata%3Fdl%3D1’\n",
      "  reason: Timeout was reached: [www.dropbox.com] Failed to connect to www.dropbox.com port 443 after 10002 ms: Timeout was reached”\n",
      "Warning message:\n",
      "“bfcadd() failed; resource removed\n",
      "  rid: BFC3\n",
      "  fpath: ‘https://www.dropbox.com/s/f4wcvtdq428y73p/Human_DLPFC_Visium_processedData_sce_scran_spatialLIBD.Rdata?dl=1’\n",
      "  reason: download failed”\n",
      "Warning message in value[[3L]](cond):\n",
      "“\n",
      "trying to add rname 'https://www.dropbox.com/s/f4wcvtdq428y73p/Human_DLPFC_Visium_processedData_sce_scran_spatialLIBD.Rdata?dl=1' produced error:\n",
      "  bfcadd() failed; see warnings()”\n"
     ]
    },
    {
     "ename": "ERROR",
     "evalue": "Error in BiocFileCache::bfcrpath(bfc, url): not all 'rnames' found or unique.\n",
     "output_type": "error",
     "traceback": [
      "Error in BiocFileCache::bfcrpath(bfc, url): not all 'rnames' found or unique.\nTraceback:\n",
      "1. fetch_data(type = \"spe\")",
      "2. sce_to_spe(fetch_data(\"sce\", destdir = destdir, eh = eh))",
      "3. check_sce(sce)",
      "4. stopifnot(is(sce, \"SingleCellExperiment\"))",
      "5. is(sce, \"SingleCellExperiment\")",
      "6. fetch_data(\"sce\", destdir = destdir, eh = eh)",
      "7. BiocFileCache::bfcrpath(bfc, url)",
      "8. BiocFileCache::bfcrpath(bfc, url)",
      "9. stop(\"not all 'rnames' found or unique.\")"
     ]
    }
   ],
   "source": [
    "## Download the spot-level data\n",
    "spe <- fetch_data(type = \"spe\")"
   ]
  }
 ],
 "metadata": {
  "kernelspec": {
   "display_name": "rplot",
   "language": "R",
   "name": "rplot"
  },
  "language_info": {
   "codemirror_mode": "r",
   "file_extension": ".r",
   "mimetype": "text/x-r-source",
   "name": "R",
   "pygments_lexer": "r",
   "version": "4.3.3"
  }
 },
 "nbformat": 4,
 "nbformat_minor": 5
}

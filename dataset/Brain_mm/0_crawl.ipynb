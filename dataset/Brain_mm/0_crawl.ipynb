{
 "cells": [
  {
   "cell_type": "markdown",
   "id": "3cafecbf-36d0-4d92-90f9-f784fdbc60ae",
   "metadata": {},
   "source": [
    "\n",
    "[10xgenomics datasets](https://www.10xgenomics.com/datasets)\n",
    "\n",
    "[10xgenomics: healthy mouse brain](https://www.10xgenomics.com/datasets?query=&page=1&configure%5BhitsPerPage%5D=50&configure%5BmaxValuesPerFacet%5D=1000&refinementList%5Bspecies%5D%5B0%5D=Mouse&refinementList%5BanatomicalEntities%5D%5B0%5D=brain&refinementList%5BdiseaseStates%5D%5B0%5D=Healthy)\n",
    "\n",
    "[10xgenomics:query=FFPE, filter=healthy mouse brain](https://www.10xgenomics.com/datasets?query=FFPE&page=1&configure%5BhitsPerPage%5D=50&configure%5BmaxValuesPerFacet%5D=1000&refinementList%5Bspecies%5D%5B0%5D=Mouse&refinementList%5BanatomicalEntities%5D%5B0%5D=brain&refinementList%5BdiseaseStates%5D%5B0%5D=Healthy)\n",
    "\n",
    "\n",
    "\n",
    "|item|note|download|dir_name|\n",
    "|:-|:-|:-|:-|\n",
    "|[Visium HD 空间基因表达文库，小鼠大脑 （FFPE）](https://www.10xgenomics.com/datasets/visium-hd-cytassist-gene-expression-libraries-of-mouse-brain-he)|18 clusters|||\n",
    "|[阿尔茨海默病小鼠模型脑冠状切片在一段时间内的原位分析](https://www.10xgenomics.com/datasets/xenium-in-situ-analysis-of-alzheimers-disease-mouse-model-brain-coronal-sections-from-one-hemisphere-over-a-time-course-1-standard)||||\n",
    "|[Visium CytAssist的保存方法比较：固定冷冻小鼠脑（矢状面），11 mm捕获区域](https://www.10xgenomics.com/datasets/preservation-method-comparison-on-visium-cytassist-fixed-frozen-mouse-brain-sagittal-11-mm-capture-area-2-standard)|14 clusters|||\n",
    "|[Visium CytAssist：新鲜冷冻小鼠脑（矢状面），11 mm捕获区域的保存方法比较](https://www.10xgenomics.com/datasets/preservation-method-comparison-on-visium-cytassist-fresh-frozen-mouse-brain-sagittal-11-mm-capture-area-2-standard)|17 clusters|||\n",
    "|[Visium CytAssist：FFPE小鼠脑（矢状面），11 mm捕获区域的保存方法比较](https://www.10xgenomics.com/datasets/preservation-method-comparison-on-visium-cytassist-ffpe-mouse-brain-sagittal-11-mm-capture-area-2-standard)|14 clusters|||\n",
    "|[成年小鼠脑冠状切片（新鲜冷冻）](https://www.10xgenomics.com/datasets/adult-mouse-brain-coronal-section-fresh-frozen-1-standard)|9 clusters|Y|Visium_Fresh_Frozen_Adult_Mouse_Brain|\n",
    "|[CytAssist上的保存方法比较：FFPE小鼠脑（矢状面），11毫米捕获区域](https://www.10xgenomics.com/datasets/ffpe-visium-on-cytassist-mouse-brain-probe-based-whole-transcriptome-profiling-2-standard)|15 clusters|Y|CytAssist_FFPE_Sagittal_Mouse_Brain|\n",
    "|[CytAssist的保存方法比较：新鲜冷冻小鼠脑（矢状），11 mm捕获区域](https://www.10xgenomics.com/datasets/fresh-frozen-visium-on-cytassist-mouse-brain-probe-based-whole-transcriptome-profiling-2-standard-1)|14 clusters|||\n",
    "|[CytAssist 上的保存方法比较：固定冷冻小鼠脑（矢状），11 mm 捕获区域](https://www.10xgenomics.com/datasets/fixed-frozen-visium-on-cytassist-mouse-brain-probe-based-whole-transcriptome-profiling-2-standard)||||\n",
    "|[3x3 布局的小鼠组织芯片，边缘到边缘间距 （FFPE） 为 2 mm](https://www.10xgenomics.com/datasets/mouse-tissue-microarray-in-3x3-layout-with-2-mm-edge-to-edge-spacing-ffpe-2-standard)||||\n",
    "|[5x5 布局的小鼠组织微阵列芯片，边缘到边缘间距 （FFPE） 为 1 mm](https://www.10xgenomics.com/datasets/mouse-tissue-microarray-in-5x5-layout-with-1-mm-edge-to-edge-spacing-ffpe-2-standard)||||\n",
    "|[3x3 布局的小鼠组织微阵列芯片，边缘到边缘间距为 1 mm （FFPE）](https://www.10xgenomics.com/datasets/mouse-tissue-microarray-in-3x3-layout-with-1-mm-edge-to-edge-spacing-ffpe-2-standard)||||\n",
    "|[CytAssist上的新鲜冷冻Visium：小鼠大脑，基于探针的全转录组分析](https://www.10xgenomics.com/datasets/fresh-frozen-visium-on-cytassist-mouse-brain-probe-based-whole-transcriptome-profiling-2-standard)|14 clusters|||\n",
    "|[成年小鼠脑冠状切片（新鲜冷冻）](https://www.10xgenomics.com/datasets/adult-mouse-brain-coronal-section-visium-ff-1-standard)\n",
    "|[小鼠脑切片聚合：用于FFPE的CytAssist](https://www.10xgenomics.com/datasets/aggregate-of-mouse-brain-sections-cytassist-for-ffpe-2-standard)||||\n",
    "|[小鼠脑切片聚合体：Visium 新鲜冷冻、全转录组](https://www.10xgenomics.com/datasets/aggregate-of-mouse-brain-sections-visium-fresh-frozen-whole-transcriptome-1-standard)||||\n",
    "|[小鼠脑冠状动脉切片 2 （FFPE）](https://www.10xgenomics.com/datasets/mouse-brain-coronal-section-2-ffpe-2-standard)||||\n",
    "|[小鼠脑冠状切片 1 （FFPE）](https://www.10xgenomics.com/datasets/mouse-brain-coronal-section-1-ffpe-2-standard)||||\n",
    "|[小鼠大脑序列号第 2 部分（矢状-前部）](https://www.10xgenomics.com/datasets/mouse-brain-serial-section-2-sagittal-anterior-1-standard)||Y|V1_Mouse_Brain_Sagittal_Anterior_Section_2|\n",
    "|[小鼠大脑序列号第 2 部分（矢状后部）](https://www.10xgenomics.com/datasets/mouse-brain-serial-section-2-sagittal-posterior-1-standard)||||\n",
    "|[8k 成年小鼠皮质细胞、ATAC v2、Chromium 控制器](https://www.10xgenomics.com/datasets/8k-adult-mouse-cortex-cells-atac-v2-chromium-controller-2-standard)||||\n",
    "|[8k 成年小鼠皮质细胞、ATAC v2、Chromium X](https://www.10xgenomics.com/datasets/8k-adult-mouse-cortex-cells-atac-v2-chromium-x-2-standard)||||\n",
    "|[小鼠脑切片（冠状体）](https://www.10xgenomics.com/datasets/mouse-brain-section-coronal-1-standard)||||\n"
   ]
  },
  {
   "cell_type": "code",
   "execution_count": 1,
   "id": "95fcd429-148c-4342-b1dd-d04960366a94",
   "metadata": {},
   "outputs": [],
   "source": [
    "import sys\n",
    "from pathlib import Path\n",
    "p_root = Path('~/link/csMAHN_Spatial').expanduser()\n",
    "sys.path.append(str(p_root)) if not str(p_root) in sys.path else None"
   ]
  },
  {
   "cell_type": "code",
   "execution_count": 2,
   "id": "af0e3aa1-b258-425d-ac47-598f0a0fe722",
   "metadata": {},
   "outputs": [
    {
     "name": "stdout",
     "output_type": "stream",
     "text": [
      "---------------------------------------------------------\n",
      "[names import from utils.general]\n",
      "----------------------------------------------------------\n",
      "  Block Path json module_exists\n",
      "  mpl np pd plt\n",
      "  rng show_dict_key sns subset_dict\n"
     ]
    }
   ],
   "source": [
    "from init import *"
   ]
  },
  {
   "cell_type": "code",
   "execution_count": 3,
   "id": "7536fab9-7edb-4fce-bc77-fddbfb4db665",
   "metadata": {},
   "outputs": [],
   "source": [
    "import os\n",
    "q_select = '''filtered_feature_bc_matrix.h5\n",
    "raw_feature_bc_matrix.h5\n",
    "analysis.tar.gz\n",
    "spatial.tar.gz'''.split('\\n')"
   ]
  },
  {
   "cell_type": "markdown",
   "id": "53353470-67c1-4b38-a638-acac404fbd67",
   "metadata": {},
   "source": [
    "## Visium_Fresh_Frozen_Adult_Mouse_Brain"
   ]
  },
  {
   "cell_type": "code",
   "execution_count": 4,
   "id": "de951f13-6144-40a3-b9a6-579f4c5e90d4",
   "metadata": {},
   "outputs": [
    {
     "name": "stdout",
     "output_type": "stream",
     "text": [
      "Continuing in background, pid 216582.\n",
      "Output will be written to ‘wget-log’.\n"
     ]
    },
    {
     "data": {
      "text/plain": [
       "0"
      ]
     },
     "execution_count": 4,
     "metadata": {},
     "output_type": "execute_result"
    }
   ],
   "source": [
    "# Adult_Mouse_Brain_Coronal_Section_Fresh_Frozen\n",
    "item='Visium_Fresh_Frozen_Adult_Mouse_Brain'\n",
    "download = True\n",
    "\n",
    "p_item = Path(item)\n",
    "p_item.mkdir(exist_ok=True,parents=True)\n",
    "\n",
    "df = pd.DataFrame({'commond':\"\"\"\n",
    "wget https://cf.10xgenomics.com/samples/spatial-exp/2.0.0/Visium_Fresh_Frozen_Adult_Mouse_Brain/Visium_Fresh_Frozen_Adult_Mouse_Brain_possorted_genome_bam.bam\n",
    "wget https://cf.10xgenomics.com/samples/spatial-exp/2.0.0/Visium_Fresh_Frozen_Adult_Mouse_Brain/Visium_Fresh_Frozen_Adult_Mouse_Brain_possorted_genome_bam.bam.bai\n",
    "wget https://cf.10xgenomics.com/samples/spatial-exp/2.0.0/Visium_Fresh_Frozen_Adult_Mouse_Brain/Visium_Fresh_Frozen_Adult_Mouse_Brain_molecule_info.h5\n",
    "wget https://cf.10xgenomics.com/samples/spatial-exp/2.0.0/Visium_Fresh_Frozen_Adult_Mouse_Brain/Visium_Fresh_Frozen_Adult_Mouse_Brain_filtered_feature_bc_matrix.h5\n",
    "wget https://cf.10xgenomics.com/samples/spatial-exp/2.0.0/Visium_Fresh_Frozen_Adult_Mouse_Brain/Visium_Fresh_Frozen_Adult_Mouse_Brain_filtered_feature_bc_matrix.tar.gz\n",
    "wget https://cf.10xgenomics.com/samples/spatial-exp/2.0.0/Visium_Fresh_Frozen_Adult_Mouse_Brain/Visium_Fresh_Frozen_Adult_Mouse_Brain_raw_feature_bc_matrix.h5\n",
    "wget https://cf.10xgenomics.com/samples/spatial-exp/2.0.0/Visium_Fresh_Frozen_Adult_Mouse_Brain/Visium_Fresh_Frozen_Adult_Mouse_Brain_raw_feature_bc_matrix.tar.gz\n",
    "wget https://cf.10xgenomics.com/samples/spatial-exp/2.0.0/Visium_Fresh_Frozen_Adult_Mouse_Brain/Visium_Fresh_Frozen_Adult_Mouse_Brain_analysis.tar.gz\n",
    "wget https://cf.10xgenomics.com/samples/spatial-exp/2.0.0/Visium_Fresh_Frozen_Adult_Mouse_Brain/Visium_Fresh_Frozen_Adult_Mouse_Brain_spatial.tar.gz\n",
    "wget https://cf.10xgenomics.com/samples/spatial-exp/2.0.0/Visium_Fresh_Frozen_Adult_Mouse_Brain/Visium_Fresh_Frozen_Adult_Mouse_Brain_metrics_summary.csv\n",
    "wget https://cf.10xgenomics.com/samples/spatial-exp/2.0.0/Visium_Fresh_Frozen_Adult_Mouse_Brain/Visium_Fresh_Frozen_Adult_Mouse_Brain_web_summary.html\n",
    "wget https://cf.10xgenomics.com/samples/spatial-exp/2.0.0/Visium_Fresh_Frozen_Adult_Mouse_Brain/Visium_Fresh_Frozen_Adult_Mouse_Brain_cloupe.cloupe\n",
    "\"\"\".split('\\n')})\n",
    "\n",
    "df['url'] = df['commond'].str.extract(\"(https?://.+)$\")\n",
    "df = df[~df['url'].isna()]\n",
    "df = df[df['url'].str.contains('Visium_Fresh_Frozen_Adult_Mouse_Brain')]\n",
    "df['url'] = df['url'].str.replace('https','http')\n",
    "df['name'] = df['url'].apply(lambda x:Path(x).name)\n",
    "df['name'] = df['name'].str.replace(item+'_','')\n",
    "df = df.query('name in @q_select')\n",
    "\n",
    "df.loc[:,['url']].to_csv(p_item.joinpath('info_download'),\n",
    "                         header=None,index=False)\n",
    "ut.df.iterdir(p_item,path_match='*wget-log*')['path'].apply(\n",
    "    lambda x:x.unlink()\n",
    ")\n",
    "os.system(\"cd {}  && wget -b -nc -c -i info_download --no-check-certificate && cd .. \"\\\n",
    "          .format(item)) if download else None"
   ]
  },
  {
   "cell_type": "code",
   "execution_count": 5,
   "id": "6b2fe40e-3efb-4490-93f8-ab3ebcc3ab98",
   "metadata": {},
   "outputs": [
    {
     "name": "stdout",
     "output_type": "stream",
     "text": [
      "File ‘Visium_Fresh_Frozen_Adult_Mouse_Brain_filtered_feature_bc_matrix.h5’ already there; not retrieving.\n",
      "\n",
      "File ‘Visium_Fresh_Frozen_Adult_Mouse_Brain_raw_feature_bc_matrix.h5’ already there; not retrieving.\n",
      "\n",
      "File ‘Visium_Fresh_Frozen_Adult_Mouse_Brain_analysis.tar.gz’ already there; not retrieving.\n",
      "\n",
      "File ‘Visium_Fresh_Frozen_Adult_Mouse_Brain_spatial.tar.gz’ already there; not retrieving.\n",
      "\n"
     ]
    }
   ],
   "source": [
    "! tail $item/wget-log"
   ]
  },
  {
   "cell_type": "markdown",
   "id": "0672bf6d-c25e-4372-b345-e1a812f9fce6",
   "metadata": {},
   "source": [
    "## CytAssist_FFPE_Sagittal_Mouse_Brain"
   ]
  },
  {
   "cell_type": "code",
   "execution_count": 10,
   "id": "60bec1c6-53d9-4f55-a287-9fbfd5f03bd2",
   "metadata": {},
   "outputs": [
    {
     "name": "stdout",
     "output_type": "stream",
     "text": [
      "Continuing in background, pid 216638.\n",
      "Output will be written to ‘wget-log’.\n"
     ]
    },
    {
     "data": {
      "text/plain": [
       "0"
      ]
     },
     "execution_count": 10,
     "metadata": {},
     "output_type": "execute_result"
    }
   ],
   "source": [
    "item='CytAssist_FFPE_Sagittal_Mouse_Brain'\n",
    "download = True\n",
    "\n",
    "p_item = Path(item)\n",
    "p_item.mkdir(exist_ok=True,parents=True)\n",
    "\n",
    "df = pd.DataFrame({'commond':\"\"\"\n",
    "wget https://s3-us-west-2.amazonaws.com/10x.files/samples/spatial-exp/2.0.1/CytAssist_FFPE_Sagittal_Mouse_Brain/CytAssist_FFPE_Sagittal_Mouse_Brain_possorted_genome_bam.bam\n",
    "wget https://cf.10xgenomics.com/samples/spatial-exp/2.0.1/CytAssist_FFPE_Sagittal_Mouse_Brain/CytAssist_FFPE_Sagittal_Mouse_Brain_possorted_genome_bam.bam.bai\n",
    "wget https://cf.10xgenomics.com/samples/spatial-exp/2.0.1/CytAssist_FFPE_Sagittal_Mouse_Brain/CytAssist_FFPE_Sagittal_Mouse_Brain_molecule_info.h5\n",
    "wget https://cf.10xgenomics.com/samples/spatial-exp/2.0.1/CytAssist_FFPE_Sagittal_Mouse_Brain/CytAssist_FFPE_Sagittal_Mouse_Brain_filtered_feature_bc_matrix.h5\n",
    "wget https://cf.10xgenomics.com/samples/spatial-exp/2.0.1/CytAssist_FFPE_Sagittal_Mouse_Brain/CytAssist_FFPE_Sagittal_Mouse_Brain_filtered_feature_bc_matrix.tar.gz\n",
    "wget https://cf.10xgenomics.com/samples/spatial-exp/2.0.1/CytAssist_FFPE_Sagittal_Mouse_Brain/CytAssist_FFPE_Sagittal_Mouse_Brain_raw_feature_bc_matrix.h5\n",
    "wget https://cf.10xgenomics.com/samples/spatial-exp/2.0.1/CytAssist_FFPE_Sagittal_Mouse_Brain/CytAssist_FFPE_Sagittal_Mouse_Brain_raw_feature_bc_matrix.tar.gz\n",
    "wget https://cf.10xgenomics.com/samples/spatial-exp/2.0.1/CytAssist_FFPE_Sagittal_Mouse_Brain/CytAssist_FFPE_Sagittal_Mouse_Brain_analysis.tar.gz\n",
    "wget https://cf.10xgenomics.com/samples/spatial-exp/2.0.1/CytAssist_FFPE_Sagittal_Mouse_Brain/CytAssist_FFPE_Sagittal_Mouse_Brain_spatial.tar.gz\n",
    "wget https://cf.10xgenomics.com/samples/spatial-exp/2.0.1/CytAssist_FFPE_Sagittal_Mouse_Brain/CytAssist_FFPE_Sagittal_Mouse_Brain_metrics_summary.csv\n",
    "wget https://cf.10xgenomics.com/samples/spatial-exp/2.0.1/CytAssist_FFPE_Sagittal_Mouse_Brain/CytAssist_FFPE_Sagittal_Mouse_Brain_web_summary.html\n",
    "wget https://cf.10xgenomics.com/samples/spatial-exp/2.0.1/CytAssist_FFPE_Sagittal_Mouse_Brain/CytAssist_FFPE_Sagittal_Mouse_Brain_cloupe.cloupe\n",
    "\n",
    "\"\"\".split('\\n')})\n",
    "\n",
    "df['url'] = df['commond'].str.extract(\"(https?://.+)$\")\n",
    "df = df[~df['url'].isna()]\n",
    "df['url'] = df['url'].str.replace('https','http')\n",
    "df['name'] = df['url'].apply(lambda x:Path(x).name)\n",
    "df['name'] = df['name'].str.replace(item+'_','')\n",
    "df = df.query('name in @q_select')\n",
    "\n",
    "df.loc[:,['url']].to_csv(p_item.joinpath('info_download'),\n",
    "                         header=None,index=False)\n",
    "ut.df.iterdir(p_item,path_match='*wget-log*')['path'].apply(\n",
    "    lambda x:x.unlink()\n",
    ")\n",
    "os.system(\"cd {}  && wget -b -nc -c -i info_download --no-check-certificate && cd .. \"\\\n",
    "          .format(item)) if download else None"
   ]
  },
  {
   "cell_type": "code",
   "execution_count": 11,
   "id": "2fe07487-b815-4538-9409-b78086ac4128",
   "metadata": {},
   "outputs": [
    {
     "name": "stdout",
     "output_type": "stream",
     "text": [
      "File ‘CytAssist_FFPE_Sagittal_Mouse_Brain_filtered_feature_bc_matrix.h5’ already there; not retrieving.\n",
      "\n",
      "File ‘CytAssist_FFPE_Sagittal_Mouse_Brain_raw_feature_bc_matrix.h5’ already there; not retrieving.\n",
      "\n",
      "File ‘CytAssist_FFPE_Sagittal_Mouse_Brain_analysis.tar.gz’ already there; not retrieving.\n",
      "\n",
      "File ‘CytAssist_FFPE_Sagittal_Mouse_Brain_spatial.tar.gz’ already there; not retrieving.\n",
      "\n"
     ]
    }
   ],
   "source": [
    "! tail $item/wget-log"
   ]
  },
  {
   "cell_type": "markdown",
   "id": "82305e1f-2487-44dd-a244-318a937c1dcf",
   "metadata": {},
   "source": [
    "## V1_Mouse_Brain_Sagittal_Anterior_Section_2"
   ]
  },
  {
   "cell_type": "code",
   "execution_count": 8,
   "id": "8597e8e2-efeb-4d04-9841-2e76b3b8bc5f",
   "metadata": {},
   "outputs": [
    {
     "name": "stdout",
     "output_type": "stream",
     "text": [
      "Continuing in background, pid 216602.\n",
      "Output will be written to ‘wget-log’.\n"
     ]
    },
    {
     "data": {
      "text/plain": [
       "0"
      ]
     },
     "execution_count": 8,
     "metadata": {},
     "output_type": "execute_result"
    }
   ],
   "source": [
    "item='V1_Mouse_Brain_Sagittal_Anterior_Section_2'\n",
    "download = True\n",
    "\n",
    "p_item = Path(item)\n",
    "p_item.mkdir(exist_ok=True,parents=True)\n",
    "\n",
    "df = pd.DataFrame({'commond':\"\"\"\n",
    "wget https://s3-us-west-2.amazonaws.com/10x.files/samples/spatial-exp/2.0.0/V1_Mouse_Brain_Sagittal_Anterior_Section_2/V1_Mouse_Brain_Sagittal_Anterior_Section_2_possorted_genome_bam.bam\n",
    "wget https://cf.10xgenomics.com/samples/spatial-exp/2.0.0/V1_Mouse_Brain_Sagittal_Anterior_Section_2/V1_Mouse_Brain_Sagittal_Anterior_Section_2_possorted_genome_bam.bam.bai\n",
    "wget https://cf.10xgenomics.com/samples/spatial-exp/2.0.0/V1_Mouse_Brain_Sagittal_Anterior_Section_2/V1_Mouse_Brain_Sagittal_Anterior_Section_2_molecule_info.h5\n",
    "wget https://cf.10xgenomics.com/samples/spatial-exp/2.0.0/V1_Mouse_Brain_Sagittal_Anterior_Section_2/V1_Mouse_Brain_Sagittal_Anterior_Section_2_filtered_feature_bc_matrix.h5\n",
    "wget https://cf.10xgenomics.com/samples/spatial-exp/2.0.0/V1_Mouse_Brain_Sagittal_Anterior_Section_2/V1_Mouse_Brain_Sagittal_Anterior_Section_2_filtered_feature_bc_matrix.tar.gz\n",
    "wget https://cf.10xgenomics.com/samples/spatial-exp/2.0.0/V1_Mouse_Brain_Sagittal_Anterior_Section_2/V1_Mouse_Brain_Sagittal_Anterior_Section_2_raw_feature_bc_matrix.h5\n",
    "wget https://cf.10xgenomics.com/samples/spatial-exp/2.0.0/V1_Mouse_Brain_Sagittal_Anterior_Section_2/V1_Mouse_Brain_Sagittal_Anterior_Section_2_raw_feature_bc_matrix.tar.gz\n",
    "wget https://cf.10xgenomics.com/samples/spatial-exp/2.0.0/V1_Mouse_Brain_Sagittal_Anterior_Section_2/V1_Mouse_Brain_Sagittal_Anterior_Section_2_analysis.tar.gz\n",
    "wget https://cf.10xgenomics.com/samples/spatial-exp/2.0.0/V1_Mouse_Brain_Sagittal_Anterior_Section_2/V1_Mouse_Brain_Sagittal_Anterior_Section_2_spatial.tar.gz\n",
    "wget https://cf.10xgenomics.com/samples/spatial-exp/2.0.0/V1_Mouse_Brain_Sagittal_Anterior_Section_2/V1_Mouse_Brain_Sagittal_Anterior_Section_2_metrics_summary.csv\n",
    "wget https://cf.10xgenomics.com/samples/spatial-exp/2.0.0/V1_Mouse_Brain_Sagittal_Anterior_Section_2/V1_Mouse_Brain_Sagittal_Anterior_Section_2_web_summary.html\n",
    "wget https://cf.10xgenomics.com/samples/spatial-exp/2.0.0/V1_Mouse_Brain_Sagittal_Anterior_Section_2/V1_Mouse_Brain_Sagittal_Anterior_Section_2_cloupe.cloupe\n",
    "\"\"\".split('\\n')})\n",
    "\n",
    "df['url'] = df['commond'].str.extract(\"(https?://.+)$\")\n",
    "df = df[~df['url'].isna()]\n",
    "df['url'] = df['url'].str.replace('https','http')\n",
    "df['name'] = df['url'].apply(lambda x:Path(x).name)\n",
    "df['name'] = df['name'].str.replace(item+'_','')\n",
    "df = df.query('name in @q_select')\n",
    "\n",
    "df.loc[:,['url']].to_csv(p_item.joinpath('info_download'),\n",
    "                         header=None,index=False)\n",
    "ut.df.iterdir(p_item,path_match='*wget-log*')['path'].apply(\n",
    "    lambda x:x.unlink()\n",
    ")\n",
    "os.system(\"cd {}  && wget -b -nc -c -i info_download --no-check-certificate && cd .. \"\\\n",
    "          .format(item)) if download else None"
   ]
  },
  {
   "cell_type": "code",
   "execution_count": 9,
   "id": "71009a74-4e6f-4703-a808-6676520fb937",
   "metadata": {},
   "outputs": [
    {
     "name": "stdout",
     "output_type": "stream",
     "text": [
      "File ‘V1_Mouse_Brain_Sagittal_Anterior_Section_2_filtered_feature_bc_matrix.h5’ already there; not retrieving.\n",
      "\n",
      "File ‘V1_Mouse_Brain_Sagittal_Anterior_Section_2_raw_feature_bc_matrix.h5’ already there; not retrieving.\n",
      "\n",
      "File ‘V1_Mouse_Brain_Sagittal_Anterior_Section_2_analysis.tar.gz’ already there; not retrieving.\n",
      "\n",
      "File ‘V1_Mouse_Brain_Sagittal_Anterior_Section_2_spatial.tar.gz’ already there; not retrieving.\n",
      "\n"
     ]
    }
   ],
   "source": [
    "! tail $item/wget-log"
   ]
  }
 ],
 "metadata": {
  "kernelspec": {
   "display_name": "crawl",
   "language": "python",
   "name": "crawl"
  },
  "language_info": {
   "codemirror_mode": {
    "name": "ipython",
    "version": 3
   },
   "file_extension": ".py",
   "mimetype": "text/x-python",
   "name": "python",
   "nbconvert_exporter": "python",
   "pygments_lexer": "ipython3",
   "version": "3.11.0"
  }
 },
 "nbformat": 4,
 "nbformat_minor": 5
}

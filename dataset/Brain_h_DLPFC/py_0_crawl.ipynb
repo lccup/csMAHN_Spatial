{
 "cells": [
  {
   "cell_type": "markdown",
   "id": "ee4a4677-9fbd-4a99-973a-fa6481d9522b",
   "metadata": {},
   "source": [
    "[info_table](https://research.libd.org/spatialLIBD/)"
   ]
  },
  {
   "cell_type": "code",
   "execution_count": 1,
   "id": "ec620fd0-d2ef-4139-8455-13d2403c1583",
   "metadata": {},
   "outputs": [],
   "source": [
    "import sys\n",
    "from pathlib import Path\n",
    "p_root = Path('~/link/csMAHN_Spatial').expanduser()\n",
    "sys.path.append(str(p_root)) if not str(p_root) in sys.path else None"
   ]
  },
  {
   "cell_type": "code",
   "execution_count": 2,
   "id": "dc45d68c-2f16-4ead-86d0-18eef1a79b4a",
   "metadata": {},
   "outputs": [
    {
     "name": "stdout",
     "output_type": "stream",
     "text": [
      "\n",
      "LCC 的python 函数库\n",
      "为实验室留下些什么吧\n",
      "0.0.1 2024年5月22日10:48:05\n",
      "\n",
      "import utils as ut\n",
      "# help(ut)\n",
      "print(ut.__doc__)\n",
      "print(ut.__version__)\n",
      "\n",
      "---------------------------------------------------------\n",
      "[names import from utils.general]\n",
      "----------------------------------------------------------\n",
      "  Block Path json mpl np\n",
      "  pd plt rng show_dict_key sns\n"
     ]
    }
   ],
   "source": [
    "from init import *"
   ]
  },
  {
   "cell_type": "code",
   "execution_count": 3,
   "id": "a988c317-7b38-4954-9fd8-d07c5ab931b7",
   "metadata": {},
   "outputs": [],
   "source": [
    "from lxml import etree\n",
    "from requests import session\n",
    "\n",
    "session = session()\n",
    "headers_default = {\n",
    "    \"User-Agent\": \"Mozilla/5.0 (Windows NT 10.0; Win64; x64)\\\n",
    "AppleWebKit/537.36 (KHTML, like Gecko) Chrome/125.0.0.0 Safari/537.36 Edg/125.0.0.0\"\n",
    "}\n",
    "\n",
    "def load_etree(str_or_path):\n",
    "    txt = None\n",
    "    if isinstance(str_or_path, str):\n",
    "        try:\n",
    "            str_or_path = (\n",
    "                Path(str_or_path) if Path(str_or_path).exists() else str_or_path\n",
    "            )\n",
    "        except Exception as e:\n",
    "            txt = str_or_path\n",
    "    if isinstance(str_or_path, Path):\n",
    "        txt = Path(str_or_path).read_text()\n",
    "    assert not txt is None\n",
    "    return etree.HTML(txt)"
   ]
  },
  {
   "cell_type": "code",
   "execution_count": 5,
   "id": "eaee03a4-c4f6-485e-b9e5-fdf9d1ac76ac",
   "metadata": {},
   "outputs": [
    {
     "data": {
      "text/html": [
       "<div>\n",
       "<style scoped>\n",
       "    .dataframe tbody tr th:only-of-type {\n",
       "        vertical-align: middle;\n",
       "    }\n",
       "\n",
       "    .dataframe tbody tr th {\n",
       "        vertical-align: top;\n",
       "    }\n",
       "\n",
       "    .dataframe thead th {\n",
       "        text-align: right;\n",
       "    }\n",
       "</style>\n",
       "<table border=\"1\" class=\"dataframe\">\n",
       "  <thead>\n",
       "    <tr style=\"text-align: right;\">\n",
       "      <th></th>\n",
       "      <th>SampleID</th>\n",
       "      <th>h5_filtered</th>\n",
       "      <th>h5_raw</th>\n",
       "      <th>image_full</th>\n",
       "      <th>image_hi</th>\n",
       "      <th>image_lo</th>\n",
       "      <th>loupe</th>\n",
       "      <th>HTML_report</th>\n",
       "    </tr>\n",
       "  </thead>\n",
       "  <tbody>\n",
       "    <tr>\n",
       "      <th>0</th>\n",
       "      <td>151507</td>\n",
       "      <td>https://spatial-dlpfc.s3.us-east-2.amazonaws.c...</td>\n",
       "      <td>https://spatial-dlpfc.s3.us-east-2.amazonaws.c...</td>\n",
       "      <td>https://spatial-dlpfc.s3.us-east-2.amazonaws.c...</td>\n",
       "      <td>https://spatial-dlpfc.s3.us-east-2.amazonaws.c...</td>\n",
       "      <td>https://spatial-dlpfc.s3.us-east-2.amazonaws.c...</td>\n",
       "      <td>https://spatial-dlpfc.s3.us-east-2.amazonaws.c...</td>\n",
       "      <td>https://github.com/LieberInstitute/HumanPilot/...</td>\n",
       "    </tr>\n",
       "    <tr>\n",
       "      <th>1</th>\n",
       "      <td>151508</td>\n",
       "      <td>https://spatial-dlpfc.s3.us-east-2.amazonaws.c...</td>\n",
       "      <td>https://spatial-dlpfc.s3.us-east-2.amazonaws.c...</td>\n",
       "      <td>https://spatial-dlpfc.s3.us-east-2.amazonaws.c...</td>\n",
       "      <td>https://spatial-dlpfc.s3.us-east-2.amazonaws.c...</td>\n",
       "      <td>https://spatial-dlpfc.s3.us-east-2.amazonaws.c...</td>\n",
       "      <td>https://spatial-dlpfc.s3.us-east-2.amazonaws.c...</td>\n",
       "      <td>https://github.com/LieberInstitute/HumanPilot/...</td>\n",
       "    </tr>\n",
       "  </tbody>\n",
       "</table>\n",
       "</div>"
      ],
      "text/plain": [
       "  SampleID                                        h5_filtered  \\\n",
       "0   151507  https://spatial-dlpfc.s3.us-east-2.amazonaws.c...   \n",
       "1   151508  https://spatial-dlpfc.s3.us-east-2.amazonaws.c...   \n",
       "\n",
       "                                              h5_raw  \\\n",
       "0  https://spatial-dlpfc.s3.us-east-2.amazonaws.c...   \n",
       "1  https://spatial-dlpfc.s3.us-east-2.amazonaws.c...   \n",
       "\n",
       "                                          image_full  \\\n",
       "0  https://spatial-dlpfc.s3.us-east-2.amazonaws.c...   \n",
       "1  https://spatial-dlpfc.s3.us-east-2.amazonaws.c...   \n",
       "\n",
       "                                            image_hi  \\\n",
       "0  https://spatial-dlpfc.s3.us-east-2.amazonaws.c...   \n",
       "1  https://spatial-dlpfc.s3.us-east-2.amazonaws.c...   \n",
       "\n",
       "                                            image_lo  \\\n",
       "0  https://spatial-dlpfc.s3.us-east-2.amazonaws.c...   \n",
       "1  https://spatial-dlpfc.s3.us-east-2.amazonaws.c...   \n",
       "\n",
       "                                               loupe  \\\n",
       "0  https://spatial-dlpfc.s3.us-east-2.amazonaws.c...   \n",
       "1  https://spatial-dlpfc.s3.us-east-2.amazonaws.c...   \n",
       "\n",
       "                                         HTML_report  \n",
       "0  https://github.com/LieberInstitute/HumanPilot/...  \n",
       "1  https://github.com/LieberInstitute/HumanPilot/...  "
      ]
     },
     "metadata": {},
     "output_type": "display_data"
    },
    {
     "data": {
      "text/plain": [
       "(12, 8)"
      ]
     },
     "metadata": {},
     "output_type": "display_data"
    },
    {
     "data": {
      "text/plain": [
       "'SampleID,h5_filtered,h5_raw,image_full,image_hi,image_lo,loupe,HTML_report'"
      ]
     },
     "metadata": {},
     "output_type": "display_data"
    }
   ],
   "source": [
    "et = load_etree(Path(\"info_table\").read_text())\n",
    "\n",
    "df = pd.DataFrame(\n",
    "    [\n",
    "        et.xpath(\"//tbody\")[0].xpath(\"tr/td[1]/text()\"),\n",
    "        et.xpath(\"//tbody\")[0].xpath(\"tr/td[2]/a/@href\"),\n",
    "        et.xpath(\"//tbody\")[0].xpath(\"tr/td[3]/a/@href\"),\n",
    "        et.xpath(\"//tbody\")[0].xpath(\"tr/td[4]/a/@href\"),\n",
    "        et.xpath(\"//tbody\")[0].xpath(\"tr/td[5]/a/@href\"),\n",
    "        et.xpath(\"//tbody\")[0].xpath(\"tr/td[6]/a/@href\"),\n",
    "        et.xpath(\"//tbody\")[0].xpath(\"tr/td[7]/a/@href\"),\n",
    "        et.xpath(\"//tbody\")[0].xpath(\"tr/td[8]/a/@href\"),\n",
    "    ],\n",
    "    index=et.xpath(\"//thead\")[0].xpath(\"//th/text()\"),\n",
    ").T\n",
    "display(df.head(2),df.shape,','.join(df.columns))"
   ]
  },
  {
   "cell_type": "code",
   "execution_count": 7,
   "id": "fa2effb0-32d9-4c21-9e1a-615574ec44f3",
   "metadata": {},
   "outputs": [
    {
     "name": "stdout",
     "output_type": "stream",
     "text": [
      "cd data && wget -b -nc -c -i info_download\n"
     ]
    }
   ],
   "source": [
    "df.loc[:,'h5_filtered,image_hi,image_lo'.split(',')].to_csv('data/info_download',\n",
    "    index=False,header=False,sep='\\n')\n",
    "print('cd data && wget -b -nc -c -i info_download')\n"
   ]
  }
 ],
 "metadata": {
  "kernelspec": {
   "display_name": "crawl",
   "language": "python",
   "name": "crawl"
  },
  "language_info": {
   "codemirror_mode": {
    "name": "ipython",
    "version": 3
   },
   "file_extension": ".py",
   "mimetype": "text/x-python",
   "name": "python",
   "nbconvert_exporter": "python",
   "pygments_lexer": "ipython3",
   "version": "3.11.0"
  }
 },
 "nbformat": 4,
 "nbformat_minor": 5
}

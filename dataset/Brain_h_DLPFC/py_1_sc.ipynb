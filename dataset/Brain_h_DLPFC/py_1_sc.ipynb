{
 "cells": [
  {
   "cell_type": "code",
   "execution_count": 1,
   "id": "ada419fd-b309-47e0-a6f3-c1efa8303774",
   "metadata": {},
   "outputs": [],
   "source": [
    "import sys\n",
    "from pathlib import Path\n",
    "p_root = Path('~/link/csMAHN_Spatial').expanduser()\n",
    "sys.path.append(str(p_root)) if not str(p_root) in sys.path else None"
   ]
  },
  {
   "cell_type": "code",
   "execution_count": 2,
   "id": "23880937-3db6-47d9-9590-1cfe47085c6a",
   "metadata": {},
   "outputs": [
    {
     "name": "stderr",
     "output_type": "stream",
     "text": [
      "/public/workspace/licanchengup/apps/miniconda3/envs/publish/lib/python3.9/site-packages/tqdm/auto.py:21: TqdmWarning: IProgress not found. Please update jupyter and ipywidgets. See https://ipywidgets.readthedocs.io/en/stable/user_install.html\n",
      "  from .autonotebook import tqdm as notebook_tqdm\n",
      "2024-05-27 22:29:15.371080: I tensorflow/core/platform/cpu_feature_guard.cc:182] This TensorFlow binary is optimized to use available CPU instructions in performance-critical operations.\n",
      "To enable the following instructions: SSE4.1 SSE4.2 AVX AVX2 AVX512F FMA, in other operations, rebuild TensorFlow with the appropriate compiler flags.\n"
     ]
    },
    {
     "name": "stdout",
     "output_type": "stream",
     "text": [
      "\n",
      "LCC 的python 函数库\n",
      "为实验室留下些什么吧\n",
      "0.0.1 2024年5月22日10:48:05\n",
      "\n",
      "import utils as ut\n",
      "# help(ut)\n",
      "print(ut.__doc__)\n",
      "print(ut.__version__)\n",
      "\n",
      "---------------------------------------------------------\n",
      "[names import from utils.general]\n",
      "----------------------------------------------------------\n",
      "  Block Path json mpl np\n",
      "  pd plt rng show_dict_key sns\n"
     ]
    }
   ],
   "source": [
    "from init import *"
   ]
  },
  {
   "cell_type": "code",
   "execution_count": 3,
   "id": "ae6c44bb-9bec-4c89-a210-839b87168e42",
   "metadata": {
    "scrolled": true
   },
   "outputs": [
    {
     "name": "stderr",
     "output_type": "stream",
     "text": [
      "/public/workspace/licanchengup/apps/miniconda3/envs/publish/lib/python3.9/site-packages/anndata/_core/anndata.py:1820: UserWarning: Variable names are not unique. To make them unique, call `.var_names_make_unique`.\n",
      "  utils.warn_names_duplicates(\"var\")\n",
      "/public/workspace/licanchengup/apps/miniconda3/envs/publish/lib/python3.9/site-packages/anndata/_core/anndata.py:1820: UserWarning: Variable names are not unique. To make them unique, call `.var_names_make_unique`.\n",
      "  utils.warn_names_duplicates(\"var\")\n"
     ]
    }
   ],
   "source": [
    "adata = sc.read_10x_h5('data/151507_filtered_feature_bc_matrix.h5')"
   ]
  },
  {
   "cell_type": "code",
   "execution_count": 4,
   "id": "790bead5-e52e-4fa6-8774-4eb7e1809689",
   "metadata": {},
   "outputs": [
    {
     "data": {
      "text/plain": [
       "matrix([[ 1.,  1.,  1., ..., 66., 10., 31.]], dtype=float32)"
      ]
     },
     "execution_count": 4,
     "metadata": {},
     "output_type": "execute_result"
    }
   ],
   "source": [
    "temp = adata.X\n",
    "temp[temp>0][:10]"
   ]
  }
 ],
 "metadata": {
  "kernelspec": {
   "display_name": "publish",
   "language": "python",
   "name": "publish"
  },
  "language_info": {
   "codemirror_mode": {
    "name": "ipython",
    "version": 3
   },
   "file_extension": ".py",
   "mimetype": "text/x-python",
   "name": "python",
   "nbconvert_exporter": "python",
   "pygments_lexer": "ipython3",
   "version": "3.9.18"
  }
 },
 "nbformat": 4,
 "nbformat_minor": 5
}

{
 "cells": [
  {
   "cell_type": "markdown",
   "id": "21cdbfbf-a075-4b0f-ba99-0c85209b2c18",
   "metadata": {},
   "source": [
    "# cancer\n",
    "\n",
    "> [PDAC_GSE111672](https://www.ncbi.nlm.nih.gov/geo/query/acc.cgi?acc=GSE111672)\n",
    ">> [PMID: 31932730](https://pubmed.ncbi.nlm.nih.gov/31932730/)\n",
    "\n",
    "PDAC\n",
    "\n",
    "human\n",
    "\n",
    "六名患者原发性胰腺癌症组织的单细胞RNA序列和空间转录组学。"
   ]
  },
  {
   "cell_type": "markdown",
   "id": "3be3e261-d4d2-4ff6-92c5-5d045541d69c",
   "metadata": {},
   "source": [
    "> [SCP815](https://singlecell.broadinstitute.org/single_cell/study/SCP815)\n",
    ">> [PMID: 33288904](https://pubmed.ncbi.nlm.nih.gov/33288904/)\n",
    "\n",
    "小鼠海马体\n",
    "\n",
    "First, we deploy Slide-seqV2 to identify new dendritically localized mRNAs in the mouse hippocampus"
   ]
  },
  {
   "cell_type": "markdown",
   "id": "a65f9b08-8d8b-45c0-81f8-b20199966fbe",
   "metadata": {},
   "source": [
    "---\n",
    "---\n",
    "\n",
    "|dataset|link|note|\n",
    "|:-:|:-:|:-:|\n",
    "|DLPFC|[原始数据](https://www.nature.com/articles/s41593-020-00787-0),[预处理](https://github.com/LieberInstitute/spatialLIBD)||\n",
    "|Breast cancer|[原始数据](https://www.10xgenomics.com/resources/datasets/human-breast-cancerblock-a-section-1-1-standard-1-1-0),[预处理](https://github.com/JinmiaoChenLab/SEDR_analysiss/)||\n",
    "|Mouse brain|[原始数据](https://support.10xgenomics.com/spatial-gene-express/datasets),[预处理](https://github.com/JinmiaoChenLab/SEDR_analysiss/)||\n",
    "|PDAC|[GSE111672](https://www.ncbi.nlm.nih.gov/geo/query/acc.cgi?acc=GSE111672)||\n",
    "|Mouse visual cortex|[原始数据](https://www.dropbox.com/sh/f7ebheru1lbz91s/AADm6D54GSEFXB1feRy6OSASa/visual_1020/20180505_BY3_1kgenes?dl=0&subfolder_nav_tracking=1),[预处理](https://drive.google.com/drive/folders/1I1nxheWlc2RXSdiv24dex3YRaEh780my?usp=sharing)||\n",
    "|Mouse embryos|[原始数据](https://crukci.shinyapps.io/SpatialMouseAtlas/),[预处理](https://squidpy.readthedocs.io/en/stable/notebooks/tutorials/tutorial_seqfish.html)||\n",
    "|MOB|[原始数据](https://github.com/JinmiaoChenLab/SEDR_analyses/tree/master/data),[预处理](https://stagate.readthedocs.io/en/latest/T4_Stereo.html)||"
   ]
  }
 ],
 "metadata": {
  "kernelspec": {
   "display_name": "publish",
   "language": "python",
   "name": "publish"
  },
  "language_info": {
   "codemirror_mode": {
    "name": "ipython",
    "version": 3
   },
   "file_extension": ".py",
   "mimetype": "text/x-python",
   "name": "python",
   "nbconvert_exporter": "python",
   "pygments_lexer": "ipython3",
   "version": "3.9.18"
  }
 },
 "nbformat": 4,
 "nbformat_minor": 5
}
